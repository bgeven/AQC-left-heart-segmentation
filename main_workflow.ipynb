{
 "cells": [
  {
   "cell_type": "markdown",
   "metadata": {},
   "source": [
    "# Main workflow 'Automated quality-controlled left heart segmentation from 2D echocardiography'\n",
    "\n",
    "This notebook provides a workflow to automatically compute currently relevant clinical indices using the segmentations of the left ventricular cavity (LV<sub>cav</sub>), myocardium (LV<sub>myo</sub>), and left atrium (LA) from 2D echocardiography. Two separate quality control (QC) steps are incorporated to (1) select frames for post-processing and (2) exclude erroneous or temporally inconsistent segmentations. \n",
    "\n",
    ">It is assumed that the segmentation will consist of all three structures, with the following labels: <br>\n",
    "> * 0: background <sub>  </sub>\n",
    "> * 1: LV<sub>cav</sub>\n",
    "> * 2: LV<sub>myo</sub>\n",
    "> * 3: LA <sub>  </sub>\n",
    " \n",
    "**Includes:** \n",
    "* [Set paths to access data](#Paths-to-data) \n",
    "* [Get image acquisition properties from DICOM files](#get-image-acquisition-properties-from-dicom-files) \n",
    "  - Timing of frames\n",
    "  - Spacing of pixels\n",
    "  - R-wave peaks\n",
    "* [Get image and segmentation parameters](#get-image-and-segmentation-parameters)\n",
    "  - LV<sub>cav</sub>, LV<sub>myo</sub>, and LA areas\n",
    "  - Frames in end-diastole (ED) and end-systole (ES) \n",
    "  - [Get overview of images and segmentations](#create-figure-with-image-and-segmentation-and-areas-over-time)\n",
    "* [Do single-frame QC](#single-frame-quality-control)\n",
    "* [Do post-processing](#post-processing)\n",
    "* [Cycle selection](#cycle-selection)\n",
    "* Do multi-frame QC\n",
    "* Calculate clinical indices\n",
    "  - LV volumes in ED and ES (EDV, ESV)\n",
    "  - LV ejection fraction (EF)\n",
    "  - LV endocardial global longitudinal strain (GLS)\n",
    "  - LA maximum area"
   ]
  },
  {
   "cell_type": "markdown",
   "metadata": {},
   "source": [
    "## Import python libraries"
   ]
  },
  {
   "cell_type": "code",
   "execution_count": null,
   "metadata": {},
   "outputs": [],
   "source": [
    "import os\n",
    "import numpy as np\n",
    "import pandas as pd\n",
    "\n",
    "from general_utilities import get_list_with_views, get_list_with_files_of_view\n",
    "from image_properties_from_dicom import main_get_dicom_properties\n",
    "from basic_parameters_from_seg import main_get_parameters\n",
    "from plot_figures import main_plot_area_time_curves\n",
    "from single_frame_qc import main_single_frame_qc\n",
    "from post_processing import main_post_processing"
   ]
  },
  {
   "cell_type": "markdown",
   "metadata": {},
   "source": [
    "## Paths to data\n",
    "A description of how to correctly set up the paths with images and segmentations can be found in this [README](./README.md)."
   ]
  },
  {
   "cell_type": "markdown",
   "metadata": {},
   "source": [
    "#### Parameters to change"
   ]
  },
  {
   "cell_type": "code",
   "execution_count": null,
   "metadata": {},
   "outputs": [],
   "source": [
    "## PARAMETERS TO CHANGE ##\n",
    "# Define path to folder with all patients\n",
    "main_folder = r\"R:\\Sandboxes\\Bram\\Cardiohance\\New_Folder_Structure\"\n",
    "\n",
    "# Define patient of interest, by default the first patient in the main folder\n",
    "patient = os.listdir(main_folder)[0]\n",
    "\n",
    "## PARAMETERS TO CHANGE ##"
   ]
  },
  {
   "cell_type": "markdown",
   "metadata": {},
   "source": [
    "#### Paths"
   ]
  },
  {
   "cell_type": "code",
   "execution_count": null,
   "metadata": {},
   "outputs": [],
   "source": [
    "path_to_dicom_files = os.path.join(main_folder, patient, \"DICOM_files\")\n",
    "path_to_images = os.path.join(main_folder, patient, \"images\")\n",
    "path_to_segmentations = os.path.join(main_folder, patient, \"segmentations_original\")\n",
    "path_to_final_segmentations = os.path.join(main_folder, patient, \"segmentations_post_processed\")"
   ]
  },
  {
   "cell_type": "markdown",
   "metadata": {},
   "source": [
    "#### Views"
   ]
  },
  {
   "cell_type": "code",
   "execution_count": null,
   "metadata": {},
   "outputs": [],
   "source": [
    "# Get all files in the segmentation folder and create a list with all views. \n",
    "all_files = os.listdir(path_to_segmentations)\n",
    "views = get_list_with_views(all_files)\n",
    "\n",
    "views"
   ]
  },
  {
   "cell_type": "markdown",
   "metadata": {},
   "source": [
    "## Get image acquisition properties from DICOM files\n",
    "From the DICOM file, the time points of each frame, pixel spacing and R-wave peaks are extracted. \n",
    "\n",
    "Please keep in mind that the use of different ultrasound machines, probes and settings can lead to a difference in parameters used for retrieving the data from the DICOM file. Therefore, it could be that the provided code returns an error. "
   ]
  },
  {
   "cell_type": "code",
   "execution_count": null,
   "metadata": {},
   "outputs": [],
   "source": [
    "dicom_properties = main_get_dicom_properties(path_to_dicom_files)"
   ]
  },
  {
   "cell_type": "markdown",
   "metadata": {},
   "source": [
    "## Get image and segmentation parameters\n",
    "The following parameters are extracted from the segmentations:\n",
    "* LV<sub>cav</sub>, LV<sub>myo</sub>, and LA areas\n",
    "* Frames in end-diastole (ED) and end-systole (ES)"
   ]
  },
  {
   "cell_type": "code",
   "execution_count": null,
   "metadata": {},
   "outputs": [],
   "source": [
    "segmentation_properties = main_get_parameters(path_to_segmentations, dicom_properties)"
   ]
  },
  {
   "cell_type": "markdown",
   "metadata": {},
   "source": [
    "### Create figure with image and segmentation and areas over time"
   ]
  },
  {
   "cell_type": "code",
   "execution_count": null,
   "metadata": {},
   "outputs": [],
   "source": [
    "# Define the label colors as an RGB array\n",
    "colors_for_labels = np.array(\n",
    "    [\n",
    "        [0, 0, 0],  # label 0: black (background)\n",
    "        [0, 255, 0],  # label 1: green (left ventricular cavity)\n",
    "        [255, 0, 0],  # label 2: red (left ventricular myocardium)\n",
    "        [0, 0, 255],  # label 3: blue (left atrium)\n",
    "    ]\n",
    ")  \n",
    "\n",
    "main_plot_area_time_curves(\n",
    "    path_to_images,\n",
    "    path_to_segmentations,\n",
    "    all_files,\n",
    "    views,\n",
    "    dicom_properties,\n",
    "    segmentation_properties,\n",
    "    colors_for_labels,\n",
    ")"
   ]
  },
  {
   "cell_type": "markdown",
   "metadata": {},
   "source": [
    "## Single-frame quality control\n",
    "The single-frame QC is based on the following criteria:\n",
    "* no missing structures for LV, MYO and LA\n",
    "* no multiple structures for LV, MYO and LA\n",
    "* no gap within LV, MYO, LA\n",
    "* no gap between each structure"
   ]
  },
  {
   "cell_type": "code",
   "execution_count": null,
   "metadata": {},
   "outputs": [],
   "source": [
    "single_frame_qc_before_post_processing = main_single_frame_qc(path_to_segmentations)"
   ]
  },
  {
   "cell_type": "code",
   "execution_count": null,
   "metadata": {},
   "outputs": [],
   "source": [
    "stats_single_frame_qc_before_post_processing = pd.DataFrame.from_dict(\n",
    "    single_frame_qc_before_post_processing[\"QC_Stats\"],\n",
    "    orient=\"index\",\n",
    "    columns=[\"QC_Stats\"],\n",
    ")\n",
    "stats_single_frame_qc_before_post_processing"
   ]
  },
  {
   "cell_type": "markdown",
   "metadata": {},
   "source": [
    "## Post-processing\n",
    "The post-processing consists of the following steps:\n",
    "* Determine the mean centroids of the LV<sub>cav</sub>, LV<sub>myo</sub>, and LA accross the entire image sequence. \n",
    "* Remove structures that do not contain the mean centroids. \n",
    "* Fill holes in the remaining structures."
   ]
  },
  {
   "cell_type": "code",
   "execution_count": null,
   "metadata": {},
   "outputs": [],
   "source": [
    "main_post_processing(\n",
    "    path_to_segmentations,\n",
    "    path_to_final_segmentations,\n",
    "    single_frame_qc_before_post_processing,\n",
    ")"
   ]
  },
  {
   "cell_type": "markdown",
   "metadata": {},
   "source": [
    "## Single-frame quality control after post-processing\n",
    "The single-frame QC is repeated after post-processing, to see if the post-processing improved the segmentation."
   ]
  },
  {
   "cell_type": "code",
   "execution_count": null,
   "metadata": {},
   "outputs": [],
   "source": [
    "single_frame_qc_after_post_processing = main_single_frame_qc(\n",
    "    path_to_final_segmentations\n",
    ")"
   ]
  },
  {
   "cell_type": "code",
   "execution_count": null,
   "metadata": {},
   "outputs": [],
   "source": [
    "stats_single_frame_qc_after_post_processing = pd.DataFrame.from_dict(\n",
    "    single_frame_qc_after_post_processing[\"QC_Stats\"],\n",
    "    orient=\"index\",\n",
    "    columns=[\"QC_Stats\"],\n",
    ")\n",
    "stats_single_frame_qc_after_post_processing"
   ]
  },
  {
   "cell_type": "markdown",
   "metadata": {},
   "source": [
    "## Cycle selection\n",
    "The cycle selection is based on the following criteria:\n",
    "* Flagged frames by single-frame QC\n",
    "* Number of frames with unenclosed LV<sub>cav</sub>\n",
    "* Number of frames with LA cut off\n",
    "* CNR of bloodpool (LV<sub>cav</sub> + LA) and LV<sub>myo</sub>\n"
   ]
  },
  {
   "cell_type": "code",
   "execution_count": null,
   "metadata": {},
   "outputs": [],
   "source": []
  }
 ],
 "metadata": {
  "kernelspec": {
   "display_name": "intern310",
   "language": "python",
   "name": "python3"
  },
  "language_info": {
   "codemirror_mode": {
    "name": "ipython",
    "version": 3
   },
   "file_extension": ".py",
   "mimetype": "text/x-python",
   "name": "python",
   "nbconvert_exporter": "python",
   "pygments_lexer": "ipython3",
   "version": "3.9.16"
  },
  "orig_nbformat": 4
 },
 "nbformat": 4,
 "nbformat_minor": 2
}
