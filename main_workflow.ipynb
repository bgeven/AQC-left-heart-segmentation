{
 "cells": [
  {
   "cell_type": "markdown",
   "metadata": {},
   "source": [
    "# Main workflow 'Automated quality-controlled left heart segmentation from 2D echocardiography'\n",
    "\n",
    "This notebook provides a workflow to automatically compute currently relevant clinical indices using the segmentations of the left ventricular cavity (LV<sub>cav</sub>), myocardium (LV<sub>myo</sub>), and left atrium (LA) from 2D echocardiography. Two separate quality control (QC) steps are incorporated to (1) select frames for post-processing and (2) exclude images with bad or temporally inconsistent segmentations. \n",
    "\n",
    ">It is assumed that the segmentation will consist of all three structures with the following labels: <br>\n",
    "> * 0: background <sub>  </sub>\n",
    "> * 1: LV<sub>cav</sub>\n",
    "> * 2: LV<sub>myo</sub>\n",
    "> * 3: LA <sub>  </sub>\n",
    "\n",
    "**Includes:**\n",
    "* Set paths to access data\n",
    "* Get information from DICOM file \n",
    "  - Timing of frames\n",
    "  - Spacing of pixels\n",
    "  - R-wave peaks\n",
    "* Get image and segmentation parameters\n",
    "  - LV<sub>cav</sub>, LV<sub>myo</sub>, and LA areas\n",
    "  - Frames in end-diastole (ED) and end-systole (ES) \n",
    "* Do single-frame QC\n",
    "* Do post-processing\n",
    "* Find main heart cycle \n",
    "* Do multi-frame QC\n",
    "* Calculate clinical indices\n",
    "  - LV volumes in ED and ES\n",
    "  - LV ejection fraction (EF)\n",
    "  - LV endocardial global longitudinal strain (GLS)\n",
    "  - LA maximum area"
   ]
  },
  {
   "cell_type": "markdown",
   "metadata": {},
   "source": [
    "## Import python libraries"
   ]
  },
  {
   "cell_type": "code",
   "execution_count": null,
   "metadata": {
    "vscode": {
     "languageId": "plaintext"
    }
   },
   "outputs": [],
   "source": []
  },
  {
   "cell_type": "markdown",
   "metadata": {},
   "source": []
  }
 ],
 "metadata": {
  "language_info": {
   "name": "python"
  },
  "orig_nbformat": 4
 },
 "nbformat": 4,
 "nbformat_minor": 2
}
