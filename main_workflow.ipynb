{
 "cells": [
  {
   "cell_type": "markdown",
   "metadata": {},
   "source": [
    "# Main workflow 'Automated quality-controlled left heart segmentation from 2D echocardiography'\n",
    "\n",
    "This notebook provides a workflow to automatically compute currently relevant clinical indices using the segmentations of the left ventricular cavity (LV<sub>cav</sub>), myocardium (LV<sub>myo</sub>), and left atrium (LA) from 2D echocardiography. Two separate quality control (QC) steps are incorporated to (1) select frames for post-processing and (2) exclude erroneous or temporally inconsistent segmentations. \n",
    "\n",
    ">It is assumed that the segmentation will consist of all three structures, with the following labels: <br>\n",
    "> * 0: background <sub>  </sub>\n",
    "> * 1: LV<sub>cav</sub>\n",
    "> * 2: LV<sub>myo</sub>\n",
    "> * 3: LA <sub>  </sub>\n",
    " \n",
    "**Includes:** \n",
    "* [Set paths to access data](#Paths-to-data) \n",
    "* [Get image acquisition properties from DICOM files](#get-image-acquisition-properties-from-dicom-files) \n",
    "  - Timing of frames\n",
    "  - Spacing of pixels\n",
    "  - R-wave peaks\n",
    "* [Get image and segmentation parameters](#get-image-and-segmentation-parameters)\n",
    "  - LV<sub>cav</sub>, LV<sub>myo</sub>, and LA areas\n",
    "  - Frames in end-diastole (ED) and end-systole (ES) \n",
    "  - [Get overview of images and segmentations](#create-figure-with-image-and-segmentation-and-areas-over-time)\n",
    "* [Single-frame QC](#single-frame-quality-control)\n",
    "* [Post-processing](#post-processing)\n",
    "* [Single-frame QC, after post-processing](#single-frame-quality-control-after-post-processing)\n",
    "* [Multi-frame QC, structural criteria](#multi-frame-quality-control-based-on-structural-criteria)\n",
    "* [Cycle selection](#cycle-selection)\n",
    "* [Do multi-frame QC](#multi-frame-quality-control-based-on-temporal-criteria)\n",
    "* [Calculate clinical indices](#calculate-clinical-indices)\n",
    "  - LV volumes in ED and ES (EDV, ESV)\n",
    "  - LV ejection fraction (EF)\n",
    "  - LV endocardial global longitudinal strain (GLS)\n",
    "  - LA maximum area"
   ]
  },
  {
   "cell_type": "markdown",
   "metadata": {},
   "source": [
    "## Import python libraries and functions from other Python files. "
   ]
  },
  {
   "cell_type": "code",
   "execution_count": null,
   "metadata": {},
   "outputs": [],
   "source": [
    "import os\n",
    "import json\n",
    "import numpy as np\n",
    "import pandas as pd\n",
    "\n",
    "from general_utilities import get_list_with_views, load_atlases\n",
    "from image_properties_from_dicom import (\n",
    "    main_get_dicom_properties,\n",
    "    default_dicom_properties,\n",
    ")\n",
    "from basic_parameters_from_seg import main_get_parameters\n",
    "from plot_figures import main_plot_area_time_curves, show_atlases\n",
    "from single_frame_qc import main_single_frame_qc\n",
    "from post_processing import main_post_processing\n",
    "from multi_frame_qc_structural import main_multi_frame_qc_structural\n",
    "from cycle_selection import main_cycle_selection\n",
    "from multi_frame_qc_temporal import main_multi_frame_qc_temporal\n",
    "from multi_frame_qc import main_multi_frame_qc\n",
    "from clinical_indices_calculation import main_computation_clinical_indices"
   ]
  },
  {
   "cell_type": "markdown",
   "metadata": {},
   "source": [
    "## Paths to data\n",
    "A description of how to correctly set up the paths with images and segmentations can be found in this [README](./README.md)."
   ]
  },
  {
   "cell_type": "markdown",
   "metadata": {},
   "source": [
    "#### Parameters to change"
   ]
  },
  {
   "cell_type": "code",
   "execution_count": null,
   "metadata": {},
   "outputs": [],
   "source": [
    "## PARAMETERS TO CHANGE ##\n",
    "# Define path to folder with all patients. \n",
    "path_to_dataset = r\"R:\\Sandboxes\\Bram\\Cardiohance\\New_Folder_Structure\"\n",
    "\n",
    "# Get list of all patients in dataset. \n",
    "patients = os.listdir(path_to_dataset)\n",
    "\n",
    "# Define patient of interest, by default the first patient in the main folder. \n",
    "patient = patients[0]\n",
    "\n",
    "# Determine whether to use the default atlases or the atlases defined by the user.\n",
    "use_prev_defined_atlases = True\n",
    "\n",
    "## PARAMETERS TO CHANGE ##"
   ]
  },
  {
   "cell_type": "markdown",
   "metadata": {},
   "source": [
    "#### Paths"
   ]
  },
  {
   "cell_type": "code",
   "execution_count": null,
   "metadata": {},
   "outputs": [],
   "source": [
    "path_to_dicom_files = os.path.join(path_to_dataset, patient, \"DICOM_files\")\n",
    "path_to_images = os.path.join(path_to_dataset, patient, \"images\")\n",
    "path_to_segmentations = os.path.join(path_to_dataset, patient, \"segmentations_original\")\n",
    "path_to_final_segmentations = os.path.join(\n",
    "    path_to_dataset, patient, \"segmentations_post_processed\"\n",
    ")\n",
    "\n",
    "path_to_atlases = os.path.join(os.getcwd(), \"area_time_atlases\")"
   ]
  },
  {
   "cell_type": "code",
   "execution_count": null,
   "metadata": {},
   "outputs": [],
   "source": [
    "path_to_atlases = os.path.join(os.getcwd(), \"area_time_atlases\")"
   ]
  },
  {
   "cell_type": "markdown",
   "metadata": {},
   "source": [
    "#### Views"
   ]
  },
  {
   "cell_type": "code",
   "execution_count": null,
   "metadata": {},
   "outputs": [],
   "source": [
    "# Get all files in the patient specific segmentation folder and create a list with all views.\n",
    "all_files = os.listdir(path_to_segmentations)\n",
    "views = get_list_with_views(all_files)\n",
    "\n",
    "views"
   ]
  },
  {
   "cell_type": "markdown",
   "metadata": {},
   "source": [
    "## Get image acquisition properties from DICOM files\n",
    "From the DICOM file, the time points of each frame, pixel spacing and R-wave peaks are extracted. \n",
    "\n",
    "Please keep in mind that the use of different ultrasound machines, probes and settings can lead to a difference in parameters used for retrieving the data from the DICOM file. Therefore, it could be that the provided code returns an error. "
   ]
  },
  {
   "cell_type": "code",
   "execution_count": null,
   "metadata": {},
   "outputs": [],
   "source": [
    "if len(os.listdir(path_to_dicom_files)) > 0:\n",
    "    dicom_properties = main_get_dicom_properties(path_to_dicom_files)\n",
    "\n",
    "else:\n",
    "    dicom_properties = default_dicom_properties(views)"
   ]
  },
  {
   "cell_type": "markdown",
   "metadata": {},
   "source": [
    "## Get image and segmentation parameters\n",
    "The following parameters are extracted from the segmentations:\n",
    "* LV<sub>cav</sub>, LV<sub>myo</sub>, and LA areas\n",
    "* Frames in end-diastole (ED) and end-systole (ES)"
   ]
  },
  {
   "cell_type": "code",
   "execution_count": null,
   "metadata": {},
   "outputs": [],
   "source": [
    "segmentation_properties = main_get_parameters(\n",
    "    path_to_segmentations, all_files, views, dicom_properties\n",
    ")"
   ]
  },
  {
   "cell_type": "markdown",
   "metadata": {},
   "source": [
    "### Create figure with image and segmentation and areas over time"
   ]
  },
  {
   "cell_type": "code",
   "execution_count": null,
   "metadata": {},
   "outputs": [],
   "source": [
    "# Check if images are present. If not, do not plot the area-time curves\n",
    "images_present = len(os.listdir(path_to_images)) > 0\n",
    "\n",
    "if images_present:\n",
    "    # Define the label colors as an RGB array\n",
    "    colors_for_labels = np.array(\n",
    "        [\n",
    "            [0, 0, 0],  # label 0: black (background)\n",
    "            [0, 255, 0],  # label 1: green (left ventricular cavity)\n",
    "            [255, 0, 0],  # label 2: red (left ventricular myocardium)\n",
    "            [0, 0, 255],  # label 3: blue (left atrium)\n",
    "        ]\n",
    "    )\n",
    "\n",
    "    main_plot_area_time_curves(\n",
    "        path_to_images,\n",
    "        path_to_segmentations,\n",
    "        all_files,\n",
    "        views,\n",
    "        dicom_properties,\n",
    "        segmentation_properties,\n",
    "        colors_for_labels,\n",
    "    )"
   ]
  },
  {
   "cell_type": "markdown",
   "metadata": {},
   "source": [
    "## Single-frame quality control\n",
    "The single-frame QC is based on the following criteria:\n",
    "* no missing structures for LV, MYO and LA\n",
    "* no multiple structures for LV, MYO and LA\n",
    "* no gap within LV, MYO, LA\n",
    "* no gap between each structure"
   ]
  },
  {
   "cell_type": "code",
   "execution_count": null,
   "metadata": {},
   "outputs": [],
   "source": [
    "single_frame_qc_before_post_processing = main_single_frame_qc(\n",
    "    path_to_segmentations, all_files, views\n",
    ")"
   ]
  },
  {
   "cell_type": "code",
   "execution_count": null,
   "metadata": {},
   "outputs": [],
   "source": [
    "stats_single_frame_qc_before_post_processing = pd.DataFrame.from_dict(\n",
    "    single_frame_qc_before_post_processing[\"stats\"],\n",
    "    orient=\"index\",\n",
    "    columns=[\"stats\"],\n",
    ")\n",
    "stats_single_frame_qc_before_post_processing"
   ]
  },
  {
   "cell_type": "markdown",
   "metadata": {},
   "source": [
    "## Post-processing\n",
    "The post-processing consists of the following steps:\n",
    "* Determine the mean centroids of the LV<sub>cav</sub>, LV<sub>myo</sub>, and LA accross the entire image sequence. \n",
    "* Remove structures that do not contain the mean centroids. \n",
    "* Fill holes in the remaining structures."
   ]
  },
  {
   "cell_type": "code",
   "execution_count": null,
   "metadata": {},
   "outputs": [],
   "source": [
    "main_post_processing(\n",
    "    path_to_segmentations,\n",
    "    path_to_final_segmentations,\n",
    "    single_frame_qc_before_post_processing,\n",
    "    all_files,\n",
    "    views\n",
    ")"
   ]
  },
  {
   "cell_type": "markdown",
   "metadata": {},
   "source": [
    "## Single-frame quality control after post-processing\n",
    "The single-frame QC is repeated after post-processing, to see if the post-processing improved the segmentation."
   ]
  },
  {
   "cell_type": "code",
   "execution_count": null,
   "metadata": {},
   "outputs": [],
   "source": [
    "single_frame_qc_after_post_processing = main_single_frame_qc(\n",
    "    path_to_final_segmentations, all_files, views\n",
    ")"
   ]
  },
  {
   "cell_type": "code",
   "execution_count": null,
   "metadata": {},
   "outputs": [],
   "source": [
    "stats_single_frame_qc_after_post_processing = pd.DataFrame.from_dict(\n",
    "    single_frame_qc_after_post_processing[\"stats\"],\n",
    "    orient=\"index\",\n",
    "    columns=[\"stats\"],\n",
    ")\n",
    "stats_single_frame_qc_after_post_processing"
   ]
  },
  {
   "cell_type": "markdown",
   "metadata": {},
   "source": [
    "## Multi-frame quality control based on structural criteria\n",
    "This part of the multi-frame QC is based on the following criteria:\n",
    "* LV<sub>cav</sub> should be fully surrounded by LV<sub>myo</sub> and LA.\n",
    "* LA should be fully present in image plane, not cut off by image border."
   ]
  },
  {
   "cell_type": "code",
   "execution_count": null,
   "metadata": {},
   "outputs": [],
   "source": [
    "multi_frame_qc_structural = main_multi_frame_qc_structural(\n",
    "    path_to_segmentations, all_files, views\n",
    ")"
   ]
  },
  {
   "cell_type": "markdown",
   "metadata": {},
   "source": [
    "## Cycle selection\n",
    "The cycle selection is based on the following criteria:\n",
    "* Number of flagged frames by single-frame QC.\n",
    "* Number of flagged frames by multi-frame QC based on structural criteria.\n",
    "* CNR between bloodpool (LV<sub>cav</sub> + LA) and LV<sub>myo</sub>."
   ]
  },
  {
   "cell_type": "code",
   "execution_count": null,
   "metadata": {},
   "outputs": [],
   "source": [
    "cycle_information = main_cycle_selection(\n",
    "    path_to_images,\n",
    "    path_to_segmentations,\n",
    "    segmentation_properties,\n",
    "    single_frame_qc_after_post_processing,\n",
    "    multi_frame_qc_structural,\n",
    "    all_files,\n",
    "    views,\n",
    ")"
   ]
  },
  {
   "cell_type": "markdown",
   "metadata": {},
   "source": [
    "## Multi-frame quality control based on temporal criteria"
   ]
  },
  {
   "cell_type": "markdown",
   "metadata": {},
   "source": [
    "#### Load pre-defined atlases of area-time curves for LV<sub>cav</sub> and LA\n",
    "Add explanation."
   ]
  },
  {
   "cell_type": "code",
   "execution_count": null,
   "metadata": {},
   "outputs": [],
   "source": [
    "# Load pre-defined or user-defined atlases\n",
    "if use_prev_defined_atlases:\n",
    "    atlas_lv, atlas_la = load_atlases(os.path.join(path_to_atlases, \"pre_defined\"))\n",
    "\n",
    "else:\n",
    "    atlas_lv, atlas_la = load_atlases(os.path.join(path_to_atlases, \"user_defined\"))\n",
    "\n",
    "\n",
    "show_atlases(atlas_lv, atlas_la)"
   ]
  },
  {
   "cell_type": "markdown",
   "metadata": {},
   "source": [
    "#### Compute the Dynamic Time Warping distance between the area-time curves of the current patient and the atlases."
   ]
  },
  {
   "cell_type": "code",
   "execution_count": null,
   "metadata": {},
   "outputs": [],
   "source": [
    "multi_frame_qc_temporal = main_multi_frame_qc_temporal(views, cycle_information, segmentation_properties, dicom_properties, atlas_lv, atlas_la)"
   ]
  },
  {
   "cell_type": "markdown",
   "metadata": {},
   "source": [
    "#### Apply criteria and determine whether or not to exclude the patient."
   ]
  },
  {
   "cell_type": "code",
   "execution_count": null,
   "metadata": {},
   "outputs": [],
   "source": [
    "## Set criteria for multi-frame QC\n",
    "\n",
    "# Image is flagged if the number of flagged frames in the selected cardiac cycle is higher or equal to the threshold.  \n",
    "flagged_frame_threshold = 2\n",
    "\n",
    "# Image is flagged if the DTW distance is larger than the threshold for either the left ventricle or left atrium.\n",
    "dtw_threshold_lv = 1\n",
    "dtw_threshold_la = 2\n",
    "dtw_thresholds = [dtw_threshold_lv, dtw_threshold_la]"
   ]
  },
  {
   "cell_type": "code",
   "execution_count": null,
   "metadata": {},
   "outputs": [],
   "source": [
    "multi_frame_qc = main_multi_frame_qc(patient, views, cycle_information, multi_frame_qc_structural, multi_frame_qc_temporal, flagged_frame_threshold, dtw_thresholds)\n",
    "multi_frame_qc[\"label_combined\"]"
   ]
  },
  {
   "cell_type": "markdown",
   "metadata": {},
   "source": [
    "## Calculate clinical indices"
   ]
  },
  {
   "cell_type": "code",
   "execution_count": null,
   "metadata": {},
   "outputs": [],
   "source": [
    "clinical_indices = main_computation_clinical_indices(path_to_segmentations, patient, views, all_files, cycle_information, dicom_properties)\n",
    "clinical_indices"
   ]
  }
 ],
 "metadata": {
  "kernelspec": {
   "display_name": "intern310",
   "language": "python",
   "name": "python3"
  },
  "language_info": {
   "codemirror_mode": {
    "name": "ipython",
    "version": 3
   },
   "file_extension": ".py",
   "mimetype": "text/x-python",
   "name": "python",
   "nbconvert_exporter": "python",
   "pygments_lexer": "ipython3",
   "version": "3.9.16"
  },
  "orig_nbformat": 4
 },
 "nbformat": 4,
 "nbformat_minor": 2
}
